{
 "cells": [
  {
   "cell_type": "markdown",
   "source": [
    "Pytorch is a popular deep learning framework and it's easy to get started."
   ],
   "metadata": {
    "collapsed": false,
    "pycharm": {
     "name": "#%% md\n"
    }
   }
  },
  {
   "cell_type": "code",
   "execution_count": 2,
   "metadata": {
    "collapsed": true,
    "pycharm": {
     "is_executing": false
    }
   },
   "outputs": [
    {
     "name": "stdout",
     "text": [
      "cuda:0\n",
      "GeForce GTX 1050 Ti\n",
      "tensor([[0.4648, 0.9907, 0.0988],\n        [0.9436, 0.1117, 0.2777],\n        [0.8218, 0.1152, 0.7450]], device='cuda:0')\n"
     ],
     "output_type": "stream"
    }
   ],
   "source": [
    "import torch\n",
    "import torch.nn as nn\n",
    "import torch.utils.data as data\n",
    "import torchvision\n",
    "import torchvision.transforms as transforms\n",
    "from tqdm import tqdm\n",
    "import time\n",
    "import os\n",
    "os.environ['CUDA_VISIBLE_DEVICES'] = \"1\"\n",
    "\n",
    "BATCH_SIZE = 128\n",
    "NUM_EPOCHS = 10\n",
    "DEVICE = torch.device(\"cuda:0\" if torch.cuda.is_available() else \"cpu\")\n",
    "print(DEVICE)\n",
    "print(torch.cuda.get_device_name(0))\n",
    "print(torch.rand(3,3).cuda()) "
   ]
  },
  {
   "cell_type": "markdown",
   "source": [
    "First, we read the mnist data, preprocess them and encapsulate them into dataloader form."
   ],
   "metadata": {
    "collapsed": false
   }
  },
  {
   "cell_type": "code",
   "execution_count": 3,
   "outputs": [],
   "source": [
    "# preprocessing\n",
    "normalize = transforms.Normalize(mean=[.5], std=[.5])\n",
    "transform = transforms.Compose([transforms.ToTensor(), normalize])\n",
    "\n",
    "# download and load the data\n",
    "train_dataset = torchvision.datasets.MNIST(root='./mnist/', train=True, transform=transform, download=True)\n",
    "test_dataset = torchvision.datasets.MNIST(root='./mnist/', train=False, transform=transform, download=False)\n",
    "\n",
    "# encapsulate them into dataloader form\n",
    "train_loader = data.DataLoader(train_dataset, batch_size=BATCH_SIZE, shuffle=True, drop_last=True)\n",
    "test_loader = data.DataLoader(test_dataset, batch_size=BATCH_SIZE, shuffle=False, drop_last=True)"
   ],
   "metadata": {
    "collapsed": false,
    "pycharm": {
     "name": "#%%\n",
     "is_executing": false
    }
   }
  },
  {
   "cell_type": "markdown",
   "source": [
    "Then, we define the model, object function and optimizer that we use to classify."
   ],
   "metadata": {
    "collapsed": false,
    "pycharm": {
     "name": "#%% md\n"
    }
   }
  },
  {
   "cell_type": "code",
   "execution_count": 4,
   "outputs": [],
   "source": [
    "class SimpleNet(nn.Module):\n",
    "# TODO:define model\n",
    "    def __init__(self):\n",
    "        super().__init__()\n",
    "        # 1,28x28\n",
    "        self.conv1=nn.Conv2d(1,10,5) # 10, 24x24\n",
    "        self.conv2=nn.Conv2d(10,20,3) # 128, 10x10\n",
    "        self.fc1 = nn.Linear(20*10*10,500)\n",
    "        self.fc2 = nn.Linear(500,10)\n",
    "    def forward(self,x):\n",
    "        in_size = x.size(0)\n",
    "        out = self.conv1(x) #24\n",
    "        out = nn.functional.relu(out)\n",
    "        out = nn.functional.max_pool2d(out, 2, 2)  #12\n",
    "        out = self.conv2(out) #10\n",
    "        out = nn.functional.relu(out)\n",
    "        out = out.view(in_size,-1)\n",
    "        out = self.fc1(out)\n",
    "        out = nn.functional.relu(out)\n",
    "        out = self.fc2(out)\n",
    "        out = nn.functional.log_softmax(out,dim=1)\n",
    "        return out\n",
    "\n",
    "    \n",
    "model = SimpleNet().to(DEVICE)\n",
    "# TODO:define loss function and optimiter\n",
    "#criterion = \n",
    "optimizer = torch.optim.Adam(model.parameters());"
   ],
   "metadata": {
    "collapsed": false,
    "pycharm": {
     "name": "#%%\n",
     "is_executing": false
    }
   }
  },
  {
   "cell_type": "markdown",
   "source": [
    "Next, we can start to train and evaluate!\n",
    "\n",
    "Q5:\n",
    "\n",
    "Please print the training and testing accuracy."
   ],
   "metadata": {
    "collapsed": false
   }
  },
  {
   "cell_type": "code",
   "execution_count": 5,
   "outputs": [
    {
     "name": "stdout",
     "text": [
      "Train Epoch: 0 [19072/60000 (32%)]\tLoss: 0.121886\n",
      "Train Epoch: 0 [38272/60000 (64%)]\tLoss: 0.051665\n",
      "Train Epoch: 0 [57472/60000 (96%)]\tLoss: 0.124753\n",
      "\nTrain set:  Accuracy: 58862/60000 (98.10%)\n\n",
      "\nTest set:  Accuracy: 9803/10000 (98.03%)\n\n",
      "Train Epoch: 1 [19072/60000 (32%)]\tLoss: 0.047954\n",
      "Train Epoch: 1 [38272/60000 (64%)]\tLoss: 0.122968\n",
      "Train Epoch: 1 [57472/60000 (96%)]\tLoss: 0.024701\n",
      "\nTrain set:  Accuracy: 59273/60000 (98.79%)\n\n",
      "\nTest set:  Accuracy: 9868/10000 (98.68%)\n\n",
      "Train Epoch: 2 [19072/60000 (32%)]\tLoss: 0.078689\n",
      "Train Epoch: 2 [38272/60000 (64%)]\tLoss: 0.038244\n",
      "Train Epoch: 2 [57472/60000 (96%)]\tLoss: 0.113636\n",
      "\nTrain set:  Accuracy: 59238/60000 (98.73%)\n\n",
      "\nTest set:  Accuracy: 9842/10000 (98.42%)\n\n",
      "Train Epoch: 3 [19072/60000 (32%)]\tLoss: 0.013801\n",
      "Train Epoch: 3 [38272/60000 (64%)]\tLoss: 0.005844\n",
      "Train Epoch: 3 [57472/60000 (96%)]\tLoss: 0.003286\n",
      "\nTrain set:  Accuracy: 59493/60000 (99.16%)\n\n",
      "\nTest set:  Accuracy: 9863/10000 (98.63%)\n\n",
      "Train Epoch: 4 [19072/60000 (32%)]\tLoss: 0.033685\n",
      "Train Epoch: 4 [38272/60000 (64%)]\tLoss: 0.076113\n",
      "Train Epoch: 4 [57472/60000 (96%)]\tLoss: 0.011795\n",
      "\nTrain set:  Accuracy: 59561/60000 (99.27%)\n\n",
      "\nTest set:  Accuracy: 9864/10000 (98.64%)\n\n",
      "Train Epoch: 5 [19072/60000 (32%)]\tLoss: 0.014432\n",
      "Train Epoch: 5 [38272/60000 (64%)]\tLoss: 0.001191\n",
      "Train Epoch: 5 [57472/60000 (96%)]\tLoss: 0.025768\n",
      "\nTrain set:  Accuracy: 59707/60000 (99.51%)\n\n",
      "\nTest set:  Accuracy: 9888/10000 (98.88%)\n\n",
      "Train Epoch: 6 [19072/60000 (32%)]\tLoss: 0.014596\n",
      "Train Epoch: 6 [38272/60000 (64%)]\tLoss: 0.009358\n",
      "Train Epoch: 6 [57472/60000 (96%)]\tLoss: 0.000791\n",
      "\nTrain set:  Accuracy: 59685/60000 (99.47%)\n\n",
      "\nTest set:  Accuracy: 9889/10000 (98.89%)\n\n",
      "Train Epoch: 7 [19072/60000 (32%)]\tLoss: 0.029356\n",
      "Train Epoch: 7 [38272/60000 (64%)]\tLoss: 0.003780\n",
      "Train Epoch: 7 [57472/60000 (96%)]\tLoss: 0.017726\n",
      "\nTrain set:  Accuracy: 59776/60000 (99.63%)\n\n",
      "\nTest set:  Accuracy: 9889/10000 (98.89%)\n\n",
      "Train Epoch: 8 [19072/60000 (32%)]\tLoss: 0.000615\n",
      "Train Epoch: 8 [38272/60000 (64%)]\tLoss: 0.004592\n",
      "Train Epoch: 8 [57472/60000 (96%)]\tLoss: 0.013877\n",
      "\nTrain set:  Accuracy: 59794/60000 (99.66%)\n\n",
      "\nTest set:  Accuracy: 9875/10000 (98.75%)\n\n",
      "Train Epoch: 9 [19072/60000 (32%)]\tLoss: 0.001755\n",
      "Train Epoch: 9 [38272/60000 (64%)]\tLoss: 0.021741\n",
      "Train Epoch: 9 [57472/60000 (96%)]\tLoss: 0.008409\n",
      "\nTrain set:  Accuracy: 59711/60000 (99.52%)\n\n",
      "\nTest set:  Accuracy: 9876/10000 (98.76%)\n\n"
     ],
     "output_type": "stream"
    }
   ],
   "source": [
    "# train and evaluate\n",
    "for epoch in range(NUM_EPOCHS):\n",
    "    for batch_idx, (data, target) in enumerate(train_loader):\n",
    "        data, target = data.to(DEVICE), target.to(DEVICE)\n",
    "        optimizer.zero_grad()\n",
    "        output = model(data)\n",
    "        loss = nn.functional.nll_loss(output, target)\n",
    "        loss.backward()\n",
    "        optimizer.step()\n",
    "        if(batch_idx+1)%150 == 0: \n",
    "            print('Train Epoch: {} [{}/{} ({:.0f}%)]\\tLoss: {:.6f}'.format(\n",
    "                epoch, batch_idx * len(data), len(train_loader.dataset),\n",
    "                100. * batch_idx / len(train_loader), loss.item()))\n",
    "    # evaluate\n",
    "    # TODO:calculate the accuracy using training and testing dataset\n",
    "    correct = 0\n",
    "    with torch.no_grad():\n",
    "        for data, target in train_loader:\n",
    "            data, target = data.to(DEVICE), target.to(DEVICE)\n",
    "            output = model(data)\n",
    "            pred = output.max(1, keepdim=True)[1] # 找到概率最大的下标\n",
    "            correct += pred.eq(target.view_as(pred)).sum().item()       \n",
    "    print('\\nTrain set:  Accuracy: {}/{} ({:.2f}%)\\n'.format(\n",
    "             correct, len(train_loader.dataset),\n",
    "            100. * correct / len(train_loader.dataset)))\n",
    "    \n",
    "    correct = 0\n",
    "    with torch.no_grad():\n",
    "        for data, target in test_loader:\n",
    "            data, target = data.to(DEVICE), target.to(DEVICE)\n",
    "            output = model(data)\n",
    "            pred = output.max(1, keepdim=True)[1] # 找到概率最大的下标\n",
    "            correct += pred.eq(target.view_as(pred)).sum().item()       \n",
    "    print('\\nTest set:  Accuracy: {}/{} ({:.2f}%)\\n'.format(\n",
    "             correct, len(test_loader.dataset),\n",
    "            100. * correct / len(test_loader.dataset)))        \n"
   ],
   "metadata": {
    "collapsed": false,
    "pycharm": {
     "name": "#%%\n",
     "is_executing": false
    }
   }
  }
 ],
 "metadata": {
  "kernelspec": {
   "display_name": "Python 3",
   "language": "python",
   "name": "python3"
  },
  "language_info": {
   "codemirror_mode": {
    "name": "ipython",
    "version": 2
   },
   "file_extension": ".py",
   "mimetype": "text/x-python",
   "name": "python",
   "nbconvert_exporter": "python",
   "pygments_lexer": "ipython2",
   "version": "2.7.6"
  },
  "pycharm": {
   "stem_cell": {
    "cell_type": "raw",
    "source": [],
    "metadata": {
     "collapsed": false
    }
   }
  }
 },
 "nbformat": 4,
 "nbformat_minor": 0
}